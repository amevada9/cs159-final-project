{
 "cells": [
  {
   "cell_type": "markdown",
   "metadata": {},
   "source": [
    "# Training Model with Reprsentation Tracking"
   ]
  },
  {
   "cell_type": "code",
   "execution_count": 5,
   "metadata": {},
   "outputs": [],
   "source": [
    "import os\n",
    "import sys\n",
    "import numpy as np\n",
    "import tensorflow as tf\n",
    "import matplotlib.pyplot\n",
    "\n",
    "from tensorflow import shape as s\n",
    "from tensorflow import keras\n",
    "from tensorflow.keras import layers\n",
    "from tensorflow.keras import Model\n",
    "from tensorflow.keras.models import Sequential\n",
    "from tensorflow.keras.utils import to_categorical\n",
    "from tensorflow.keras.losses import categorical_crossentropy\n",
    "from tensorflow.keras.preprocessing import image\n",
    "from tensorflow.keras.preprocessing.image import ImageDataGenerator\n",
    "from tensorflow.keras.layers import Dense, Flatten, Conv2D, MaxPooling2D, Dropout\n"
   ]
  },
  {
   "cell_type": "code",
   "execution_count": 6,
   "metadata": {},
   "outputs": [],
   "source": [
    "# Define parameters of some images\n",
    "DIM = 227"
   ]
  },
  {
   "cell_type": "code",
   "execution_count": 7,
   "metadata": {},
   "outputs": [],
   "source": [
    "class AlexNet(Sequential):\n",
    "    '''\n",
    "    Here is an implementation of AlexNet in Tensorflow.\n",
    "    I have a lot of experience with AlexNet and it works pretty\n",
    "    well for most things. We can train from scratch or we can get the \n",
    "    pretrained ImageNet weights from the Internet and do stuff with it\n",
    "\n",
    "    We can also use networks ike VGG16 and ResNet (I think ResNet is classification)\n",
    "    '''\n",
    "    def __init__(self, input_shape, num_classes):\n",
    "        super().__init__()\n",
    "\n",
    "        self.add(Conv2D(96, kernel_size=(11, 11), strides=4,\n",
    "                        padding='valid', activation='relu',\n",
    "                        input_shape=input_shape,\n",
    "                        kernel_initializer='he_normal'))\n",
    "        self.add(MaxPooling2D(pool_size=(3, 3), strides=(2, 2),\n",
    "                              padding='valid', data_format=None))\n",
    "\n",
    "        self.add(Conv2D(256, kernel_size=(5, 5), strides=1,\n",
    "                        padding='same', activation='relu',\n",
    "                        kernel_initializer='he_normal'))\n",
    "        self.add(MaxPooling2D(pool_size=(3, 3), strides=(2, 2),\n",
    "                              padding='valid', data_format=None))\n",
    "\n",
    "        self.add(Conv2D(384, kernel_size=(3, 3), strides=1,\n",
    "                        padding='same', activation='relu',\n",
    "                        kernel_initializer='he_normal'))\n",
    "\n",
    "        self.add(Conv2D(384, kernel_size=(3, 3), strides=1,\n",
    "                        padding='same', activation='relu',\n",
    "                        kernel_initializer='he_normal'))\n",
    "\n",
    "        self.add(Conv2D(256, kernel_size=(3, 3), strides=1,\n",
    "                        padding='same', activation='relu',\n",
    "                        kernel_initializer='he_normal'))\n",
    "\n",
    "        self.add(MaxPooling2D(pool_size=(3, 3), strides=(2, 2),\n",
    "                              padding='valid', data_format=None))\n",
    "\n",
    "        self.add(Flatten())\n",
    "        self.add(Dense(4096, activation='relu'))\n",
    "        self.add(Dropout(0.5))\n",
    "        self.add(Dense(4096, activation='relu'))\n",
    "        self.add(Dropout(0.5))\n",
    "        self.add(Dense(num_classes, activation='softmax'))\n"
   ]
  },
  {
   "cell_type": "code",
   "execution_count": 10,
   "metadata": {},
   "outputs": [],
   "source": [
    "class AlexNet_Input_to_Kernels(Sequential):\n",
    "    def __init__(self, input_shape):\n",
    "        super().__init__()\n",
    "\n",
    "        self.add(Conv2D(96, kernel_size=(11, 11), strides=4,\n",
    "                        padding='valid', activation='relu',\n",
    "                        input_shape=input_shape,\n",
    "                        kernel_initializer='he_normal'))\n",
    "        self.add(MaxPooling2D(pool_size=(3, 3), strides=(2, 2),\n",
    "                              padding='valid', data_format=None))\n",
    "\n",
    "        self.add(Conv2D(256, kernel_size=(5, 5), strides=1,\n",
    "                        padding='same', activation='relu',\n",
    "                        kernel_initializer='he_normal'))\n",
    "        self.add(MaxPooling2D(pool_size=(3, 3), strides=(2, 2),\n",
    "                              padding='valid', data_format=None))\n",
    "\n",
    "        self.add(Conv2D(384, kernel_size=(3, 3), strides=1,\n",
    "                        padding='same', activation='relu',\n",
    "                        kernel_initializer='he_normal'))\n",
    "\n",
    "        self.add(Conv2D(384, kernel_size=(3, 3), strides=1,\n",
    "                        padding='same', activation='relu',\n",
    "                        kernel_initializer='he_normal'))\n",
    "\n",
    "        self.add(Conv2D(256, kernel_size=(3, 3), strides=1,\n",
    "                        padding='same', activation='relu',\n",
    "                        kernel_initializer='he_normal'))\n",
    "\n",
    "        self.add(MaxPooling2D(pool_size=(3, 3), strides=(2, 2),\n",
    "                              padding='valid', data_format=None))\n",
    "        self.add(Flatten(input_shape=(6, 6, 256)))\n",
    "        self.add(Dense(4096, activation='relu'))\n",
    "#         self.add(Dropout(0.5))\n",
    "#         self.add(Dense(4096, activation= 'relu'))\n",
    "#         self.add(Dropout(0.5))\n"
   ]
  },
  {
   "cell_type": "code",
   "execution_count": 8,
   "metadata": {},
   "outputs": [],
   "source": [
    "# DIM = 227\n",
    "# img_size = (DIM, DIM)\n",
    "# image_height = DIM\n",
    "# image_width = DIM\n",
    "\n",
    "# IMG_FOLDER_PATH = \"\"# Add training set here\n",
    "# IMG_VAL_PATH = \"\"# Add validation set here\n",
    "# IMG_TEST_PATH = \"\"# Add test set here\n",
    "# data_generator = ImageDataGenerator(rescale=1.0/255.0)\n",
    "# data_iter = data_generator.flow_from_directory(IMG_FOLDER_PATH,\n",
    "#                                                target_size=img_size,\n",
    "#                                                color_mode=\"rgb\",\n",
    "#                                                batch_size=1,\n",
    "#                                                shuffle=False,\n",
    "#                                                class_mode=\"categorical\"\n",
    "#                                                )\n",
    "# val_data_iter = data_generator.flow_from_directory(IMG_VAL_PATH,\n",
    "#                                                    target_size=img_size,\n",
    "#                                                    color_mode=\"rgb\",\n",
    "#                                                    batch_size=1,\n",
    "#                                                    shuffle=False,\n",
    "#                                                    class_mode=\"categorical\"\n",
    "#                                                    )\n",
    "\n",
    "# test_data_iter = data_generator.flow_from_directory(IMG_TEST_PATH,\n",
    "#                                                     target_size=img_size,\n",
    "#                                                     color_mode=\"rgb\",\n",
    "#                                                     batch_size=1,\n",
    "#                                                     shuffle=False,\n",
    "#                                                     class_mode=\"categorical\"\n",
    "#                                                     )\n"
   ]
  },
  {
   "cell_type": "code",
   "execution_count": 9,
   "metadata": {},
   "outputs": [
    {
     "name": "stderr",
     "output_type": "stream",
     "text": [
      "2022-05-18 21:18:45.055995: I tensorflow/core/platform/cpu_feature_guard.cc:142] This TensorFlow binary is optimized with oneAPI Deep Neural Network Library (oneDNN) to use the following CPU instructions in performance-critical operations:  AVX2 FMA\n",
      "To enable them in other operations, rebuild TensorFlow with the appropriate compiler flags.\n"
     ]
    },
    {
     "name": "stdout",
     "output_type": "stream",
     "text": [
      "Model: \"alex_net\"\n",
      "_________________________________________________________________\n",
      "Layer (type)                 Output Shape              Param #   \n",
      "=================================================================\n",
      "conv2d (Conv2D)              (None, 55, 55, 96)        34944     \n",
      "_________________________________________________________________\n",
      "max_pooling2d (MaxPooling2D) (None, 27, 27, 96)        0         \n",
      "_________________________________________________________________\n",
      "conv2d_1 (Conv2D)            (None, 27, 27, 256)       614656    \n",
      "_________________________________________________________________\n",
      "max_pooling2d_1 (MaxPooling2 (None, 13, 13, 256)       0         \n",
      "_________________________________________________________________\n",
      "conv2d_2 (Conv2D)            (None, 13, 13, 384)       885120    \n",
      "_________________________________________________________________\n",
      "conv2d_3 (Conv2D)            (None, 13, 13, 384)       1327488   \n",
      "_________________________________________________________________\n",
      "conv2d_4 (Conv2D)            (None, 13, 13, 256)       884992    \n",
      "_________________________________________________________________\n",
      "max_pooling2d_2 (MaxPooling2 (None, 6, 6, 256)         0         \n",
      "_________________________________________________________________\n",
      "flatten (Flatten)            (None, 9216)              0         \n",
      "_________________________________________________________________\n",
      "dense (Dense)                (None, 4096)              37752832  \n",
      "_________________________________________________________________\n",
      "dropout (Dropout)            (None, 4096)              0         \n",
      "_________________________________________________________________\n",
      "dense_1 (Dense)              (None, 4096)              16781312  \n",
      "_________________________________________________________________\n",
      "dropout_1 (Dropout)          (None, 4096)              0         \n",
      "_________________________________________________________________\n",
      "dense_2 (Dense)              (None, 5)                 20485     \n",
      "=================================================================\n",
      "Total params: 58,301,829\n",
      "Trainable params: 58,301,829\n",
      "Non-trainable params: 0\n",
      "_________________________________________________________________\n"
     ]
    }
   ],
   "source": [
    "# We will build a custom training loop to see how the process works\n",
    "\n",
    "\n",
    "\n",
    "# we compile it, load the weights\n",
    "model = AlexNet((DIM, DIM, 3), 5)\n",
    "model.compile(optimizer=tf.keras.optimizers.Adam(1e-4),\n",
    "              loss=\"categorical_crossentropy\", metrics=[\"accuracy\"])\n",
    "model.summary()\n",
    "\n",
    "\n",
    "    \n",
    "    \n"
   ]
  },
  {
   "cell_type": "code",
   "execution_count": 3,
   "metadata": {},
   "outputs": [
    {
     "ename": "NameError",
     "evalue": "name 'model' is not defined",
     "output_type": "error",
     "traceback": [
      "\u001b[0;31m---------------------------------------------------------------------------\u001b[0m",
      "\u001b[0;31mNameError\u001b[0m                                 Traceback (most recent call last)",
      "\u001b[0;32m/var/folders/mj/7qc36jcs4ld3k84z8ld5q_dh0000gn/T/ipykernel_28442/3474542532.py\u001b[0m in \u001b[0;36m<module>\u001b[0;34m\u001b[0m\n\u001b[1;32m      1\u001b[0m \u001b[0mEPOCHS\u001b[0m \u001b[0;34m=\u001b[0m \u001b[0;36m50\u001b[0m\u001b[0;34m\u001b[0m\u001b[0;34m\u001b[0m\u001b[0m\n\u001b[0;32m----> 2\u001b[0;31m \u001b[0mlayers\u001b[0m \u001b[0;34m=\u001b[0m \u001b[0;34m[\u001b[0m\u001b[0mlayer\u001b[0m\u001b[0;34m.\u001b[0m\u001b[0mname\u001b[0m \u001b[0;32mfor\u001b[0m \u001b[0mlayer\u001b[0m \u001b[0;32min\u001b[0m \u001b[0mmodel\u001b[0m\u001b[0;34m.\u001b[0m\u001b[0mlayers\u001b[0m\u001b[0;34m]\u001b[0m\u001b[0;34m\u001b[0m\u001b[0;34m\u001b[0m\u001b[0m\n\u001b[0m\u001b[1;32m      3\u001b[0m \u001b[0;34m\u001b[0m\u001b[0m\n\u001b[1;32m      4\u001b[0m \u001b[0;32mfor\u001b[0m \u001b[0mepoch\u001b[0m \u001b[0;32min\u001b[0m \u001b[0mrange\u001b[0m\u001b[0;34m(\u001b[0m\u001b[0mEPOCHS\u001b[0m\u001b[0;34m)\u001b[0m\u001b[0;34m:\u001b[0m\u001b[0;34m\u001b[0m\u001b[0;34m\u001b[0m\u001b[0m\n\u001b[1;32m      5\u001b[0m     hist = model.fit(data_iter, epochs=1, batch_size=32,\n",
      "\u001b[0;31mNameError\u001b[0m: name 'model' is not defined"
     ]
    }
   ],
   "source": [
    "EPOCHS = 50\n",
    "layers = [layer.name for layer in model.layers]\n",
    "\n",
    "for epoch in range(EPOCHS):\n",
    "    hist = model.fit(data_iter, epochs=1, batch_size=32,\n",
    "                     validation_data=val_data_iter)\n",
    "\n",
    "    layer_cut = 10\n",
    "\n",
    "    model1 = AlexNet_Input_to_Kernels((DIM, DIM, 3))\n",
    "\n",
    "    for i in range(0, layer_cut):\n",
    "        model1.layers[i].set_weights(model.layers[i].get_weights())\n",
    "    \n",
    "    \n"
   ]
  },
  {
   "cell_type": "code",
   "execution_count": null,
   "metadata": {},
   "outputs": [],
   "source": []
  }
 ],
 "metadata": {
  "interpreter": {
   "hash": "aee8b7b246df8f9039afb4144a1f6fd8d2ca17a180786b69acc140d282b71a49"
  },
  "kernelspec": {
   "display_name": "Python 3.9.0 64-bit",
   "language": "python",
   "name": "python3"
  },
  "language_info": {
   "codemirror_mode": {
    "name": "ipython",
    "version": 3
   },
   "file_extension": ".py",
   "mimetype": "text/x-python",
   "name": "python",
   "nbconvert_exporter": "python",
   "pygments_lexer": "ipython3",
   "version": "3.9.0"
  },
  "orig_nbformat": 4
 },
 "nbformat": 4,
 "nbformat_minor": 2
}
