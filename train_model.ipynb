{
 "cells": [
  {
   "cell_type": "markdown",
   "metadata": {},
   "source": [
    "# Training Model with Reprsentation Tracking"
   ]
  },
  {
   "cell_type": "code",
   "execution_count": 3,
   "metadata": {},
   "outputs": [],
   "source": [
    "import os\n",
    "import sys\n",
    "import numpy as np\n",
    "import tensorflow as tf\n",
    "import matplotlib.pyplot\n",
    "\n",
    "from tensorflow import shape as s\n",
    "from tensorflow import keras\n",
    "from tensorflow.keras import layers\n",
    "from tensorflow.keras import Model\n",
    "from tensorflow.keras.models import Sequential\n",
    "from tensorflow.keras.utils import to_categorical\n",
    "from tensorflow.keras.losses import categorical_crossentropy\n",
    "from tensorflow.keras.preprocessing import image\n",
    "from tensorflow.keras.preprocessing.image import ImageDataGenerator\n",
    "from tensorflow.keras.layers import Dense, Flatten, Conv2D, MaxPooling2D, Dropout\n"
   ]
  },
  {
   "cell_type": "code",
   "execution_count": 4,
   "metadata": {},
   "outputs": [],
   "source": [
    "class AlexNet(Sequential):\n",
    "    def __init__(self, input_shape, num_classes):\n",
    "        super().__init__()\n",
    "\n",
    "        self.add(Conv2D(96, kernel_size=(11, 11), strides=4,\n",
    "                        padding='valid', activation='relu',\n",
    "                        input_shape=input_shape,\n",
    "                        kernel_initializer='he_normal'))\n",
    "        self.add(MaxPooling2D(pool_size=(3, 3), strides=(2, 2),\n",
    "                              padding='valid', data_format=None))\n",
    "\n",
    "        self.add(Conv2D(256, kernel_size=(5, 5), strides=1,\n",
    "                        padding='same', activation='relu',\n",
    "                        kernel_initializer='he_normal'))\n",
    "        self.add(MaxPooling2D(pool_size=(3, 3), strides=(2, 2),\n",
    "                              padding='valid', data_format=None))\n",
    "\n",
    "        self.add(Conv2D(384, kernel_size=(3, 3), strides=1,\n",
    "                        padding='same', activation='relu',\n",
    "                        kernel_initializer='he_normal'))\n",
    "\n",
    "        self.add(Conv2D(384, kernel_size=(3, 3), strides=1,\n",
    "                        padding='same', activation='relu',\n",
    "                        kernel_initializer='he_normal'))\n",
    "\n",
    "        self.add(Conv2D(256, kernel_size=(3, 3), strides=1,\n",
    "                        padding='same', activation='relu',\n",
    "                        kernel_initializer='he_normal'))\n",
    "\n",
    "        self.add(MaxPooling2D(pool_size=(3, 3), strides=(2, 2),\n",
    "                              padding='valid', data_format=None))\n",
    "\n",
    "        self.add(Flatten())\n",
    "        self.add(Dense(4096, activation='relu'))\n",
    "        self.add(Dropout(0.5))\n",
    "        self.add(Dense(4096, activation='relu'))\n",
    "        self.add(Dropout(0.5))\n",
    "        self.add(Dense(num_classes, activation='softmax'))\n"
   ]
  },
  {
   "cell_type": "code",
   "execution_count": 7,
   "metadata": {},
   "outputs": [],
   "source": [
    "# DIM = 227\n",
    "# img_size = (DIM, DIM)\n",
    "# image_height = DIM\n",
    "# image_width = DIM\n",
    "\n",
    "# IMG_FOLDER_PATH = \"\"# Add training set here\n",
    "# IMG_VAL_PATH = \"\"# Add validation set here\n",
    "# IMG_TEST_PATH = \"\"# Add test set here\n",
    "# data_generator = ImageDataGenerator(rescale=1.0/255.0)\n",
    "# data_iter = data_generator.flow_from_directory(IMG_FOLDER_PATH,\n",
    "#                                                target_size=img_size,\n",
    "#                                                color_mode=\"rgb\",\n",
    "#                                                batch_size=1,\n",
    "#                                                shuffle=False,\n",
    "#                                                class_mode=\"categorical\"\n",
    "#                                                )\n",
    "# val_data_iter = data_generator.flow_from_directory(IMG_VAL_PATH,\n",
    "#                                                    target_size=img_size,\n",
    "#                                                    color_mode=\"rgb\",\n",
    "#                                                    batch_size=1,\n",
    "#                                                    shuffle=False,\n",
    "#                                                    class_mode=\"categorical\"\n",
    "#                                                    )\n",
    "\n",
    "# test_data_iter = data_generator.flow_from_directory(IMG_TEST_PATH,\n",
    "#                                                     target_size=img_size,\n",
    "#                                                     color_mode=\"rgb\",\n",
    "#                                                     batch_size=1,\n",
    "#                                                     shuffle=False,\n",
    "#                                                     class_mode=\"categorical\"\n",
    "#                                                     )\n"
   ]
  },
  {
   "cell_type": "code",
   "execution_count": null,
   "metadata": {},
   "outputs": [],
   "source": [
    "# We will build a custom training loop to see how the process works"
   ]
  }
 ],
 "metadata": {
  "interpreter": {
   "hash": "aee8b7b246df8f9039afb4144a1f6fd8d2ca17a180786b69acc140d282b71a49"
  },
  "kernelspec": {
   "display_name": "Python 3.9.0 64-bit",
   "language": "python",
   "name": "python3"
  },
  "language_info": {
   "codemirror_mode": {
    "name": "ipython",
    "version": 3
   },
   "file_extension": ".py",
   "mimetype": "text/x-python",
   "name": "python",
   "nbconvert_exporter": "python",
   "pygments_lexer": "ipython3",
   "version": "3.9.0"
  },
  "orig_nbformat": 4
 },
 "nbformat": 4,
 "nbformat_minor": 2
}
