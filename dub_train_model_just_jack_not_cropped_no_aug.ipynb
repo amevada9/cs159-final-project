{
  "cells": [
    {
      "cell_type": "markdown",
      "metadata": {
        "id": "view-in-github",
        "colab_type": "text"
      },
      "source": [
        "<a href=\"https://colab.research.google.com/github/amevada9/cs159-final-project/blob/main/dub_train_model_just_jack_not_cropped_no_aug.ipynb\" target=\"_parent\"><img src=\"https://colab.research.google.com/assets/colab-badge.svg\" alt=\"Open In Colab\"/></a>"
      ]
    },
    {
      "cell_type": "markdown",
      "metadata": {
        "id": "6Ye2e7uOWEhI"
      },
      "source": [
        "# Training Model with Representation Tracking"
      ]
    },
    {
      "cell_type": "code",
      "source": [
        "from google.colab import drive\n",
        "drive.mount('/content/drive')"
      ],
      "metadata": {
        "colab": {
          "base_uri": "https://localhost:8080/"
        },
        "id": "7U-fumgcWHdw",
        "outputId": "1e4c0af8-17c7-4582-f25f-eda9f40d3c1f"
      },
      "execution_count": 12,
      "outputs": [
        {
          "output_type": "stream",
          "name": "stdout",
          "text": [
            "Drive already mounted at /content/drive; to attempt to forcibly remount, call drive.mount(\"/content/drive\", force_remount=True).\n"
          ]
        }
      ]
    },
    {
      "cell_type": "code",
      "source": [
        "BASE_DIR = \"drive/MyDrive/Videos/jackpics\""
      ],
      "metadata": {
        "id": "Pt7zDIDLWREz"
      },
      "execution_count": 13,
      "outputs": []
    },
    {
      "cell_type": "code",
      "execution_count": 14,
      "metadata": {
        "id": "hjNzfdVUWEhL"
      },
      "outputs": [],
      "source": [
        "import os\n",
        "import sys\n",
        "import numpy as np\n",
        "import tensorflow as tf\n",
        "import matplotlib.pyplot as plt\n",
        "\n",
        "from tensorflow import shape as s\n",
        "from tensorflow import keras\n",
        "from tensorflow import image\n",
        "from tensorflow.keras import layers\n",
        "from tensorflow.keras import Model\n",
        "from tensorflow.keras.models import Sequential\n",
        "from tensorflow.keras.utils import to_categorical\n",
        "from tensorflow.keras.losses import categorical_crossentropy\n",
        "from tensorflow.keras.preprocessing import image\n",
        "from tensorflow.keras.preprocessing.image import ImageDataGenerator\n",
        "from tensorflow.keras.layers import Dense, Flatten, Conv2D, MaxPooling2D, Dropout\n"
      ]
    },
    {
      "cell_type": "code",
      "source": [
        "print(\"Num GPUs Available: \", len(tf.config.list_physical_devices('GPU')))"
      ],
      "metadata": {
        "colab": {
          "base_uri": "https://localhost:8080/"
        },
        "id": "5csdUWFHW7tT",
        "outputId": "f492c469-e980-4bc8-a899-2144002e9adb"
      },
      "execution_count": 15,
      "outputs": [
        {
          "output_type": "stream",
          "name": "stdout",
          "text": [
            "Num GPUs Available:  1\n"
          ]
        }
      ]
    },
    {
      "cell_type": "code",
      "source": [
        "gpus = tf.config.list_physical_devices('GPU')\n",
        "if gpus:\n",
        "  # Restrict TensorFlow to only use the first GPU\n",
        "  try:\n",
        "    tf.config.set_visible_devices(gpus[0], 'GPU')\n",
        "    logical_gpus = tf.config.list_logical_devices('GPU')\n",
        "    print(len(gpus), \"Physical GPUs,\", len(logical_gpus), \"Logical GPU\")\n",
        "  except RuntimeError as e:\n",
        "    # Visible devices must be set before GPUs have been initialized\n",
        "    print(e)"
      ],
      "metadata": {
        "colab": {
          "base_uri": "https://localhost:8080/"
        },
        "id": "Ay0oV66SXFLh",
        "outputId": "b55da7f9-c056-4685-a787-62902dbb8b6e"
      },
      "execution_count": 16,
      "outputs": [
        {
          "output_type": "stream",
          "name": "stdout",
          "text": [
            "1 Physical GPUs, 1 Logical GPU\n"
          ]
        }
      ]
    },
    {
      "cell_type": "code",
      "execution_count": 17,
      "metadata": {
        "id": "Ticotj0oWEhM"
      },
      "outputs": [],
      "source": [
        "# Define parameters of some images\n",
        "DIM = 200"
      ]
    },
    {
      "cell_type": "code",
      "execution_count": 18,
      "metadata": {
        "id": "cTlccGuRWEhO"
      },
      "outputs": [],
      "source": [
        "class AlexNet(Sequential):\n",
        "    '''\n",
        "    Here is an implementation of AlexNet in Tensorflow.\n",
        "    I have a lot of experience with AlexNet and it works pretty\n",
        "    well for most things. We can train from scratch or we can get the \n",
        "    pretrained ImageNet weights from the Internet and do stuff with it\n",
        "\n",
        "    We can also use networks ike VGG16 and ResNet (I think ResNet is classification)\n",
        "    and do similar things, we can just get those implemnetations there. \n",
        "    '''\n",
        "    def __init__(self, input_shape, num_classes):\n",
        "        super().__init__()\n",
        "\n",
        "        self.add(Conv2D(96, kernel_size=(11, 11), strides=4,\n",
        "                        padding='valid', activation='relu',\n",
        "                        input_shape=input_shape,\n",
        "                        kernel_initializer='he_normal'))\n",
        "        self.add(MaxPooling2D(pool_size=(3, 3), strides=(2, 2),\n",
        "                              padding='valid', data_format=None))\n",
        "\n",
        "        self.add(Conv2D(256, kernel_size=(5, 5), strides=1,\n",
        "                        padding='same', activation='relu',\n",
        "                        kernel_initializer='he_normal'))\n",
        "        self.add(MaxPooling2D(pool_size=(3, 3), strides=(2, 2),\n",
        "                              padding='valid', data_format=None))\n",
        "\n",
        "        self.add(Conv2D(384, kernel_size=(3, 3), strides=1,\n",
        "                        padding='same', activation='relu',\n",
        "                        kernel_initializer='he_normal'))\n",
        "\n",
        "        self.add(Conv2D(384, kernel_size=(3, 3), strides=1,\n",
        "                        padding='same', activation='relu',\n",
        "                        kernel_initializer='he_normal'))\n",
        "\n",
        "        self.add(Conv2D(256, kernel_size=(3, 3), strides=1,\n",
        "                        padding='same', activation='relu',\n",
        "                        kernel_initializer='he_normal'))\n",
        "\n",
        "        self.add(MaxPooling2D(pool_size=(3, 3), strides=(2, 2),\n",
        "                              padding='valid', data_format=None))\n",
        "\n",
        "        self.add(Flatten())\n",
        "        self.add(Dense(4096, activation='relu'))\n",
        "        self.add(Dropout(0.5))\n",
        "        self.add(Dense(4096, activation='relu'))\n",
        "        self.add(Dropout(0.5))\n",
        "        self.add(Dense(num_classes, activation='softmax'))\n"
      ]
    },
    {
      "cell_type": "code",
      "execution_count": 19,
      "metadata": {
        "id": "gDGHgdoMWEhQ"
      },
      "outputs": [],
      "source": [
        "class AlexNet_Input_to_Kernels(Sequential):\n",
        "    '''\n",
        "    H\n",
        "    '''\n",
        "    def __init__(self, input_shape):\n",
        "        super().__init__()\n",
        "\n",
        "        self.add(Conv2D(96, kernel_size=(11, 11), strides=4,\n",
        "                        padding='valid', activation='relu',\n",
        "                        input_shape=input_shape,\n",
        "                        kernel_initializer='he_normal'))\n",
        "        self.add(MaxPooling2D(pool_size=(3, 3), strides=(2, 2),\n",
        "                              padding='valid', data_format=None))\n",
        "\n",
        "        self.add(Conv2D(256, kernel_size=(5, 5), strides=1,\n",
        "                        padding='same', activation='relu',\n",
        "                        kernel_initializer='he_normal'))\n",
        "        self.add(MaxPooling2D(pool_size=(3, 3), strides=(2, 2),\n",
        "                              padding='valid', data_format=None))\n",
        "\n",
        "        self.add(Conv2D(384, kernel_size=(3, 3), strides=1,\n",
        "                        padding='same', activation='relu',\n",
        "                        kernel_initializer='he_normal'))\n",
        "\n",
        "        self.add(Conv2D(384, kernel_size=(3, 3), strides=1,\n",
        "                        padding='same', activation='relu',\n",
        "                        kernel_initializer='he_normal'))\n",
        "\n",
        "        self.add(Conv2D(256, kernel_size=(3, 3), strides=1,\n",
        "                        padding='same', activation='relu',\n",
        "                        kernel_initializer='he_normal'))\n",
        "\n",
        "        self.add(MaxPooling2D(pool_size=(3, 3), strides=(2, 2),\n",
        "                              padding='valid', data_format=None))\n",
        "        self.add(Flatten(input_shape=(6, 6, 256)))\n",
        "        # self.add(Dense(4096, activation='relu'))\n",
        "#         self.add(Dropout(0.5))\n",
        "#         self.add(Dense(4096, activation= 'relu'))\n",
        "#         self.add(Dropout(0.5))\n"
      ]
    },
    {
      "cell_type": "code",
      "execution_count": 20,
      "metadata": {
        "colab": {
          "base_uri": "https://localhost:8080/"
        },
        "id": "w1llNnupWEhS",
        "outputId": "0e79946d-a897-4d5c-d404-ecc892914f0b"
      },
      "outputs": [
        {
          "output_type": "stream",
          "name": "stdout",
          "text": [
            "Found 256 files belonging to 4 classes.\n",
            "Using 231 files for training.\n",
            "Found 256 files belonging to 4 classes.\n",
            "Using 231 files for training.\n",
            "Found 256 files belonging to 4 classes.\n",
            "Using 231 files for training.\n",
            "Found 256 files belonging to 4 classes.\n",
            "Using 25 files for validation.\n"
          ]
        }
      ],
      "source": [
        "DIM = 227\n",
        "img_size = (DIM, DIM)\n",
        "image_height = DIM\n",
        "image_width = DIM\n",
        "\n",
        "IMG_FOLDER_PATH = BASE_DIR + \"\"# Add training set here\n",
        "# IMG_VAL_PATH = \"\"# Add validation set here\n",
        "# IMG_TEST_PATH = \"\"# Add test set here\n",
        "\n",
        "BATCH_SIZE = 16 \n",
        "\n",
        "data_generator = ImageDataGenerator(rescale=1.0/255.0)\n",
        "data_iter = tf.keras.utils.image_dataset_from_directory(IMG_FOLDER_PATH,\n",
        "                                                labels='inferred',\n",
        "                                                label_mode='categorical' ,\n",
        "                                                class_names=['jack2s', 'jack4s', 'jackch', 'jackcu'],\n",
        "                                                color_mode='rgb',\n",
        "                                                batch_size=BATCH_SIZE,\n",
        "                                                image_size=(DIM, DIM),\n",
        "                                                shuffle=True,\n",
        "                                                seed=1,\n",
        "                                                validation_split=0.1,\n",
        "                                                subset=\"training\",\n",
        "                                                interpolation='bilinear',\n",
        "                                                follow_links=False,\n",
        "                                                crop_to_aspect_ratio=False\n",
        "                                               )\n",
        "data_iter2 = tf.keras.utils.image_dataset_from_directory(IMG_FOLDER_PATH,\n",
        "                                                labels='inferred',\n",
        "                                                label_mode='categorical' ,\n",
        "                                                class_names=['jack2s', 'jack4s', 'jackch', 'jackcu'],\n",
        "                                                color_mode='rgb',\n",
        "                                                batch_size=BATCH_SIZE,\n",
        "                                                image_size=(DIM, DIM),\n",
        "                                                shuffle=True,\n",
        "                                                seed=1,\n",
        "                                                validation_split=0.1,\n",
        "                                                subset=\"training\",\n",
        "                                                interpolation='bilinear',\n",
        "                                                follow_links=False,\n",
        "                                                crop_to_aspect_ratio=False\n",
        "                                               )\n",
        "data_iter3 = tf.keras.utils.image_dataset_from_directory(IMG_FOLDER_PATH,\n",
        "                                                labels='inferred',\n",
        "                                                label_mode='categorical' ,\n",
        "                                                class_names=['jack2s', 'jack4s', 'jackch', 'jackcu'],\n",
        "                                                color_mode='rgb',\n",
        "                                                batch_size=BATCH_SIZE,\n",
        "                                                image_size=(DIM, DIM),\n",
        "                                                shuffle=True,\n",
        "                                                seed=1,\n",
        "                                                validation_split=0.1,\n",
        "                                                subset=\"training\",\n",
        "                                                interpolation='bilinear',\n",
        "                                                follow_links=False,\n",
        "                                                crop_to_aspect_ratio=False\n",
        "                                               )\n",
        "\n",
        "\n",
        "val_data_iter = tf.keras.utils.image_dataset_from_directory(IMG_FOLDER_PATH,\n",
        "                                                labels='inferred',\n",
        "                                                label_mode='categorical' ,\n",
        "                                                class_names=['jack2s', 'jack4s', 'jackch', 'jackcu'],\n",
        "                                                color_mode='rgb',\n",
        "                                                batch_size=BATCH_SIZE,\n",
        "                                                image_size=(DIM, DIM),\n",
        "                                                shuffle=True,\n",
        "                                                seed=1,\n",
        "                                                validation_split=0.1,\n",
        "                                                subset=\"validation\",\n",
        "                                                interpolation='bilinear',\n",
        "                                                follow_links=False,\n",
        "                                                crop_to_aspect_ratio=False\n",
        "\n",
        "                                               )\n",
        "# val_data_iter = data_generator.flow_from_directory(IMG_VAL_PATH,\n",
        "#                                                    target_size=img_size,\n",
        "#                                                    color_mode=\"rgb\",\n",
        "#                                                    batch_size=1,\n",
        "#                                                    shuffle=False,\n",
        "#                                                    class_mode=\"categorical\"\n",
        "#                                                    )\n",
        "\n",
        "# test_data_iter = data_generator.flow_from_directory(IMG_TEST_PATH,\n",
        "#                                                     target_size=img_size,\n",
        "#                                                     color_mode=\"rgb\",\n",
        "#                                                     batch_size=1,\n",
        "#                                                     shuffle=False,\n",
        "#                                                     class_mode=\"categorical\"\n",
        "#                                                     )\n"
      ]
    },
    {
      "cell_type": "code",
      "source": [
        "data_iter"
      ],
      "metadata": {
        "colab": {
          "base_uri": "https://localhost:8080/"
        },
        "id": "c-ItJOd_aZn8",
        "outputId": "c6f3af10-3d81-4ee4-e1a2-c51f2a497422"
      },
      "execution_count": 21,
      "outputs": [
        {
          "output_type": "execute_result",
          "data": {
            "text/plain": [
              "<BatchDataset element_spec=(TensorSpec(shape=(None, 227, 227, 3), dtype=tf.float32, name=None), TensorSpec(shape=(None, 4), dtype=tf.float32, name=None))>"
            ]
          },
          "metadata": {},
          "execution_count": 21
        }
      ]
    },
    {
      "cell_type": "code",
      "execution_count": 22,
      "metadata": {
        "id": "a83hFm6-WEhU"
      },
      "outputs": [],
      "source": [
        "# We will build a custom training loop to see how the process works\n",
        "# we compile it, load the weights\n",
        "# model = AlexNet((DIM, DIM, 3), 4)\n",
        "# model.compile(optimizer=tf.keras.optimizers.Adam(1e-4),\n",
        "#               loss=\"categorical_crossentropy\", metrics=[\"accuracy\"])\n",
        "# model.summary()"
      ]
    },
    {
      "cell_type": "code",
      "execution_count": 23,
      "metadata": {
        "id": "EvjxnsBcWEhW"
      },
      "outputs": [],
      "source": [
        "def visualize_representation(input, title=\"\"):\n",
        "    #input = np.reshape(input, (len(input), 1))\n",
        "    for i in [60, 200, 350, 550]:\n",
        "        val = input[i]\n",
        "        plt.figure()\n",
        "        plt.bar(x=[i for i in range(1, 4097)], height=val)\n",
        "        plt.title(title)\n",
        "        plt.tight_layout()\n",
        "        plt.show()"
      ]
    },
    {
      "cell_type": "code",
      "source": [
        "# Model Evaluation Utils \n",
        "def evaluate_model(dataX, dataY, n_folds=5):\n",
        "    '''\n",
        "    Function that trains and evaluates a model \n",
        "    '''\n",
        "    scores, histories = list(), list()\n",
        "    # define model\n",
        "    model = define_model()\n",
        "    # prepare cross validation\n",
        "    kfold = KFold(n_folds, shuffle=True, random_state=1)\n",
        "    # enumerate splits\n",
        "    counter = 1\n",
        "    for train_ix, test_ix in kfold.split(dataX):\n",
        "        print('Beginning Fold: ' + str(counter))\n",
        "        # select rows for train and test\n",
        "        trainX, trainY, testX, testY = dataX[train_ix], dataY[train_ix], dataX[test_ix], dataY[test_ix]\n",
        "        # fit model\n",
        "        history = model.fit(trainX, trainY, epochs = 5, batch_size=32, validation_data=(testX, testY), verbose=1)\n",
        "        # evaluate model\n",
        "        _, acc = model.evaluate(testX, testY, verbose=1)\n",
        "        print()\n",
        "        print('> %.3f' % (acc * 100.0))\n",
        "        print()\n",
        "        # append scores\n",
        "        scores.append(acc)\n",
        "        histories.append(history)\n",
        "        counter += 1\n",
        "    return model, scores, histories\n",
        "\n",
        "def summarize_diagnostics(history):\n",
        "    ''' \n",
        "    Function that takes in the history object that model.fit() throws out,\n",
        "    and unpacks it to plot the Cross Entropy Loss and Accuracy of the model\n",
        "    Useful to compare the Training and Validation Set\n",
        "    '''\n",
        "    # plot loss\n",
        "    plt.subplot(211)\n",
        "    plt.title('Cross Entropy Loss')\n",
        "    plt.plot(history.history['loss'], color='blue', label='Training Set')\n",
        "    plt.plot(history.history['val_loss'], color='orange', label='Validation Set')\n",
        "    plt.xlabel('Epoch')\n",
        "    plt.ylabel('Loss Value')\n",
        "    plt.legend()\n",
        "\n",
        "    # plot accuracy\n",
        "    plt.subplot(212)\n",
        "    plt.ylim(0.5, 1.0)\n",
        "    plt.title('Classification Accuracy')\n",
        "    plt.plot(history.history['accuracy'], color='blue', label='Training Set')\n",
        "    plt.plot(history.history['val_accuracy'], color='orange', label='Validation Set')\n",
        "    plt.xlabel('Epoch')\n",
        "    plt.ylabel('Accuracy')\n",
        "    plt.legend()\n",
        "\n",
        "    plt.tight_layout()\n",
        "    plt.show()"
      ],
      "metadata": {
        "id": "TjZWcsQdOvo2"
      },
      "execution_count": 24,
      "outputs": []
    },
    {
      "cell_type": "code",
      "source": [
        "# We can train the network normally for speed and accraucy testing here\n",
        "model = AlexNet((DIM, DIM, 3), 4)\n",
        "model.compile(optimizer=tf.keras.optimizers.Adam(1e-4),\n",
        "              loss=\"categorical_crossentropy\", metrics=[\"accuracy\"])\n",
        "\n",
        "EPOCHS = 10\n",
        "hist = model.fit(data_iter, epochs=EPOCHS, batch_size=BATCH_SIZE, validation_data=val_data_iter)\n",
        "\n",
        "summarize_diagnostics(hist)"
      ],
      "metadata": {
        "colab": {
          "base_uri": "https://localhost:8080/",
          "height": 664
        },
        "id": "QZ9n7GzdOX-w",
        "outputId": "507652c1-8a19-40df-efaa-919ad47bcafe"
      },
      "execution_count": 25,
      "outputs": [
        {
          "output_type": "stream",
          "name": "stdout",
          "text": [
            "Epoch 1/10\n",
            "15/15 [==============================] - 52s 1s/step - loss: 382.5094 - accuracy: 0.2338 - val_loss: 116.3386 - val_accuracy: 0.1200\n",
            "Epoch 2/10\n",
            "15/15 [==============================] - 3s 112ms/step - loss: 71.6827 - accuracy: 0.3377 - val_loss: 6.5030 - val_accuracy: 0.5200\n",
            "Epoch 3/10\n",
            "15/15 [==============================] - 3s 111ms/step - loss: 18.1010 - accuracy: 0.3766 - val_loss: 6.4277 - val_accuracy: 0.4400\n",
            "Epoch 4/10\n",
            "15/15 [==============================] - 3s 111ms/step - loss: 6.8729 - accuracy: 0.4675 - val_loss: 3.1641 - val_accuracy: 0.5200\n",
            "Epoch 5/10\n",
            "15/15 [==============================] - 3s 112ms/step - loss: 2.8540 - accuracy: 0.5931 - val_loss: 0.8202 - val_accuracy: 0.7600\n",
            "Epoch 6/10\n",
            "15/15 [==============================] - 3s 115ms/step - loss: 1.4053 - accuracy: 0.7359 - val_loss: 0.4924 - val_accuracy: 0.8000\n",
            "Epoch 7/10\n",
            "15/15 [==============================] - 3s 132ms/step - loss: 1.1361 - accuracy: 0.7186 - val_loss: 0.1070 - val_accuracy: 0.9600\n",
            "Epoch 8/10\n",
            "15/15 [==============================] - 3s 111ms/step - loss: 0.6349 - accuracy: 0.8182 - val_loss: 0.0521 - val_accuracy: 1.0000\n",
            "Epoch 9/10\n",
            "15/15 [==============================] - 3s 111ms/step - loss: 0.2993 - accuracy: 0.9091 - val_loss: 0.0152 - val_accuracy: 1.0000\n",
            "Epoch 10/10\n",
            "15/15 [==============================] - 3s 114ms/step - loss: 0.1915 - accuracy: 0.9221 - val_loss: 0.0011 - val_accuracy: 1.0000\n"
          ]
        },
        {
          "output_type": "display_data",
          "data": {
            "text/plain": [
              "<Figure size 432x288 with 2 Axes>"
            ],
            "image/png": "[encoded data removed]"
          },
          "metadata": {
            "needs_background": "light"
          }
        }
      ]
    },
    {
      "cell_type": "code",
      "execution_count": 26,
      "metadata": {
        "colab": {
          "base_uri": "https://localhost:8080/"
        },
        "id": "FsFsxJzAWEhV",
        "outputId": "24c94308-72ee-4e33-a1c7-50d47d8a813c"
      },
      "outputs": [
        {
          "output_type": "stream",
          "name": "stdout",
          "text": [
            "Iteration 1\n",
            "15/15 [==============================] - 4s 117ms/step - loss: 446.2322 - accuracy: 0.2771 - val_loss: 40.0968 - val_accuracy: 0.1600\n",
            "Length of Outputs: (231, 9216)\n",
            "Iteration 2\n",
            "15/15 [==============================] - 3s 112ms/step - loss: 56.9339 - accuracy: 0.2814 - val_loss: 4.1027 - val_accuracy: 0.3200\n",
            "Length of Outputs: (231, 9216)\n",
            "Iteration 3\n",
            "15/15 [==============================] - 3s 112ms/step - loss: 16.6769 - accuracy: 0.3680 - val_loss: 3.4149 - val_accuracy: 0.5200\n",
            "Length of Outputs: (231, 9216)\n",
            "Iteration 4\n",
            "15/15 [==============================] - 3s 110ms/step - loss: 9.0227 - accuracy: 0.4113 - val_loss: 1.7153 - val_accuracy: 0.6400\n",
            "Length of Outputs: (231, 9216)\n",
            "Iteration 5\n",
            "15/15 [==============================] - 3s 111ms/step - loss: 3.4175 - accuracy: 0.5498 - val_loss: 1.0577 - val_accuracy: 0.6400\n",
            "Length of Outputs: (231, 9216)\n",
            "Iteration 6\n",
            "15/15 [==============================] - 3s 113ms/step - loss: 1.6041 - accuracy: 0.6840 - val_loss: 0.1122 - val_accuracy: 0.9600\n",
            "Length of Outputs: (231, 9216)\n",
            "Iteration 7\n",
            "15/15 [==============================] - 3s 111ms/step - loss: 0.9602 - accuracy: 0.7662 - val_loss: 0.0071 - val_accuracy: 1.0000\n",
            "Length of Outputs: (231, 9216)\n",
            "Iteration 8\n",
            "15/15 [==============================] - 3s 113ms/step - loss: 0.5193 - accuracy: 0.8398 - val_loss: 0.0239 - val_accuracy: 1.0000\n",
            "Length of Outputs: (231, 9216)\n",
            "Iteration 9\n",
            "15/15 [==============================] - 3s 113ms/step - loss: 0.2939 - accuracy: 0.9004 - val_loss: 0.0310 - val_accuracy: 0.9600\n",
            "Length of Outputs: (231, 9216)\n",
            "Iteration 10\n",
            "15/15 [==============================] - 3s 115ms/step - loss: 0.1312 - accuracy: 0.9524 - val_loss: 0.0392 - val_accuracy: 1.0000\n",
            "Length of Outputs: (231, 9216)\n"
          ]
        }
      ],
      "source": [
        "# We will build a custom training loop to see how the process works\n",
        "# we compile it, load the weights\n",
        "model = AlexNet((DIM, DIM, 3), 4)\n",
        "model.compile(optimizer=tf.keras.optimizers.Adam(1e-4),\n",
        "              loss=\"categorical_crossentropy\", metrics=[\"accuracy\"])\n",
        "\n",
        "EPOCHS = 10\n",
        "layers = [layer.name for layer in model.layers]\n",
        "\n",
        "iteration_representations = {}\n",
        "for epoch in range(EPOCHS):\n",
        "    print(f\"Iteration {epoch + 1}\")\n",
        "    hist = model.fit(data_iter, epochs=1, batch_size=BATCH_SIZE, validation_data=val_data_iter)\n",
        "\n",
        "    layer_cut = 9\n",
        "\n",
        "    model1 = AlexNet_Input_to_Kernels((DIM, DIM, 3))\n",
        "\n",
        "    for i in range(0, layer_cut):\n",
        "        model1.layers[i].set_weights(model.layers[i].get_weights())\n",
        "\n",
        "    # Now we can take the outputs from the cut model\n",
        "\n",
        "    outputs = model1.predict(data_iter)\n",
        "    print(f\"Length of Outputs: {outputs.shape}\")\n",
        "    \n",
        "    iteration_representations[epoch + 1] = outputs\n",
        "\n",
        "    #visualize_representation(outputs)"
      ]
    },
    {
      "cell_type": "code",
      "source": [
        "outputs = model1.predict(val_data_iter)"
      ],
      "metadata": {
        "id": "kH5zTokcNOtc"
      },
      "execution_count": 27,
      "outputs": []
    },
    {
      "cell_type": "code",
      "source": [
        "print(len(outputs))\n",
        "\n",
        "#from sklearn.decomposition import PCA\n",
        "#pca = PCA(n_components=2)"
      ],
      "metadata": {
        "colab": {
          "base_uri": "https://localhost:8080/"
        },
        "id": "ug5vin6joN_I",
        "outputId": "3eaee8cc-7483-46b4-cbf5-d8ec61a0472a"
      },
      "execution_count": 28,
      "outputs": [
        {
          "output_type": "stream",
          "name": "stdout",
          "text": [
            "25\n"
          ]
        }
      ]
    },
    {
      "cell_type": "code",
      "source": [
        "sum(outputs[1])"
      ],
      "metadata": {
        "colab": {
          "base_uri": "https://localhost:8080/"
        },
        "id": "pG9Po6Ykp6g0",
        "outputId": "64652358-945b-4e67-c6e0-6e1e55f277a4"
      },
      "execution_count": 29,
      "outputs": [
        {
          "output_type": "execute_result",
          "data": {
            "text/plain": [
              "4176.954011939466"
            ]
          },
          "metadata": {},
          "execution_count": 29
        }
      ]
    },
    {
      "cell_type": "markdown",
      "source": [
        "going back to the images and coloring them could be a little hard.  Can figure it out tho"
      ],
      "metadata": {
        "id": "kTv9ljkNqNWn"
      }
    },
    {
      "cell_type": "code",
      "source": [
        "from sklearn.decomposition import PCA\n",
        "pca = PCA(n_components=2)\n",
        "ps = pca.fit_transform(outputs)"
      ],
      "metadata": {
        "id": "Me1wxUwlp8lg"
      },
      "execution_count": 30,
      "outputs": []
    },
    {
      "cell_type": "code",
      "source": [
        "fig = plt.figure(figsize = (8,8))\n",
        "ax = fig.add_subplot(1,1,1) \n",
        "ax.set_xlabel('Principal Component 1', fontsize = 15)\n",
        "ax.set_ylabel('Principal Component 2', fontsize = 15)\n",
        "ax.set_title('2 component PCA', fontsize = 20)\n",
        "#targets = ['Iris-setosa', 'Iris-versicolor', 'Iris-virginica']\n",
        "#colors = ['r', 'g', 'b']\n",
        "#for target, color in zip(targets,colors):\n",
        "#    indicesToKeep = finalDf['target'] == target\n",
        "#    ax.scatter(finalDf.loc[indicesToKeep, 'principal component 1']\n",
        "#               , finalDf.loc[indicesToKeep, 'principal component 2']\n",
        "#               , c = color\n",
        "#               , s = 50)\n",
        "x = [item[0] for item in ps.tolist()]\n",
        "y = [item[1] for item in ps.tolist()]\n",
        "ax.scatter(x, y)\n",
        "#ax.legend(ps)\n",
        "ax.grid()"
      ],
      "metadata": {
        "colab": {
          "base_uri": "https://localhost:8080/",
          "height": 523
        },
        "id": "jK0OC9Xnqj5a",
        "outputId": "33111459-f012-46b1-e0e1-6182670092d4"
      },
      "execution_count": 31,
      "outputs": [
        {
          "output_type": "display_data",
          "data": {
            "text/plain": [
              "<Figure size 576x576 with 1 Axes>"
            ],
            "image/png": "[encoded data removed]"
          },
          "metadata": {
            "needs_background": "light"
          }
        }
      ]
    },
    {
      "cell_type": "code",
      "source": [
        "#plots the data in two dimensions for visualization using pca\n",
        "#assumes there are 4 different types of pitches - we can alter this later if needed\n",
        "#labels are just t0 for type 0 and t1 for type 2 etc.  Will change this as needed\n",
        "\n",
        "\n",
        "#paramaters:  data is either val_data_iter or data_iter\n",
        "#model should just be model1\n",
        "\n",
        "def plotpoints(data, model):\n",
        "  t0 = []\n",
        "  t1 = []\n",
        "  t2 = []\n",
        "  t3 = []\n",
        "\n",
        "  for item in data:\n",
        "    outputs = model1.predict(item[0])\n",
        "    labels = item[1]\n",
        "    for x, y in zip(outputs, labels):\n",
        "      if int(y[0]) == 1:\n",
        "        t0.append(x)\n",
        "      if int(y[1]) == 1:\n",
        "        t1.append(x)\n",
        "      if int(y[2]) == 1:\n",
        "        t2.append(x)\n",
        "      else:\n",
        "        t3.append(x)\n",
        "\n",
        "  ps = pca.fit_transform(t0)\n",
        "  fig = plt.figure(figsize = (8,8))\n",
        "  ax = fig.add_subplot(1,1,1) \n",
        "  ax.set_xlabel('Principal Component 1', fontsize = 15)\n",
        "  ax.set_ylabel('Principal Component 2', fontsize = 15)\n",
        "  ax.set_title('2 component PCA', fontsize = 20)\n",
        "  pitches = [t0, t1, t2, t3]\n",
        "  colors = ['r', 'g', 'b', 'm']\n",
        "  for pitch, color in zip(pitches,colors):\n",
        "      ps = pca.fit_transform(pitch)\n",
        "      x = [item[0] for item in ps.tolist()]\n",
        "      y = [item[1] for item in ps.tolist()]\n",
        "      ax.scatter(x, y, c = color)\n",
        "\n",
        "  ax.legend(['t0', 't1', 't2', 't3'])"
      ],
      "metadata": {
        "id": "CyHwR2eVuXGa"
      },
      "execution_count": 32,
      "outputs": []
    },
    {
      "cell_type": "code",
      "source": [
        "plotpoints(data_iter, model1)"
      ],
      "metadata": {
        "colab": {
          "base_uri": "https://localhost:8080/",
          "height": 523
        },
        "id": "veQhsMkUzx7p",
        "outputId": "298b8e76-fb1a-4bd6-92b1-50ee91e9a61c"
      },
      "execution_count": 33,
      "outputs": [
        {
          "output_type": "display_data",
          "data": {
            "text/plain": [
              "<Figure size 576x576 with 1 Axes>"
            ],
            "image/png": "[encoded data removed]"
          },
          "metadata": {
            "needs_background": "light"
          }
        }
      ]
    },
    {
      "cell_type": "code",
      "source": [
        "plotpoints(val_data_iter, model1)"
      ],
      "metadata": {
        "colab": {
          "base_uri": "https://localhost:8080/",
          "height": 523
        },
        "id": "H_6ZRj22z0sX",
        "outputId": "b47e7b01-7981-44d4-b41d-e5b836e2b2b7"
      },
      "execution_count": 34,
      "outputs": [
        {
          "output_type": "display_data",
          "data": {
            "text/plain": [
              "<Figure size 576x576 with 1 Axes>"
            ],
            "image/png": "[encoded data removed]"
          },
          "metadata": {
            "needs_background": "light"
          }
        }
      ]
    },
    {
      "cell_type": "code",
      "source": [
        ""
      ],
      "metadata": {
        "id": "yjlkL4imz-NF"
      },
      "execution_count": null,
      "outputs": []
    }
  ],
  "metadata": {
    "interpreter": {
      "hash": "aee8b7b246df8f9039afb4144a1f6fd8d2ca17a180786b69acc140d282b71a49"
    },
    "kernelspec": {
      "display_name": "Python 3.9.0 64-bit",
      "language": "python",
      "name": "python3"
    },
    "language_info": {
      "codemirror_mode": {
        "name": "ipython",
        "version": 3
      },
      "file_extension": ".py",
      "mimetype": "text/x-python",
      "name": "python",
      "nbconvert_exporter": "python",
      "pygments_lexer": "ipython3",
      "version": "3.9.0"
    },
    "orig_nbformat": 4,
    "colab": {
      "name": " dub_train_model_just_jack_not_cropped.ipynb",
      "provenance": [],
      "include_colab_link": true
    },
    "accelerator": "GPU"
  },
  "nbformat": 4,
  "nbformat_minor": 0
}