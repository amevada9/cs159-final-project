{
  "cells": [
    {
      "cell_type": "markdown",
      "metadata": {
        "id": "view-in-github",
        "colab_type": "text"
      },
      "source": [
        "<a href=\"https://colab.research.google.com/github/amevada9/cs159-final-project/blob/main/dub_train_model_just_jack.ipynb\" target=\"_parent\"><img src=\"https://colab.research.google.com/assets/colab-badge.svg\" alt=\"Open In Colab\"/></a>"
      ]
    },
    {
      "cell_type": "markdown",
      "metadata": {
        "id": "6Ye2e7uOWEhI"
      },
      "source": [
        "# Training Model with Representation Tracking"
      ]
    },
    {
      "cell_type": "code",
      "source": [
        "from google.colab import drive\n",
        "drive.mount('/content/drive')"
      ],
      "metadata": {
        "colab": {
          "base_uri": "https://localhost:8080/"
        },
        "id": "7U-fumgcWHdw",
        "outputId": "a599dc0f-91b0-49e8-eb58-589c51fd25b6"
      },
      "execution_count": 1,
      "outputs": [
        {
          "output_type": "stream",
          "name": "stdout",
          "text": [
            "Mounted at /content/drive\n"
          ]
        }
      ]
    },
    {
      "cell_type": "code",
      "source": [
        "BASE_DIR = \"drive/MyDrive/Videos/jack_cropped\""
      ],
      "metadata": {
        "id": "Pt7zDIDLWREz"
      },
      "execution_count": 2,
      "outputs": []
    },
    {
      "cell_type": "code",
      "execution_count": 40,
      "metadata": {
        "id": "hjNzfdVUWEhL"
      },
      "outputs": [],
      "source": [
        "import os\n",
        "import sys\n",
        "import numpy as np\n",
        "import tensorflow as tf\n",
        "import matplotlib.pyplot as plt\n",
        "\n",
        "from tensorflow import shape as s\n",
        "from tensorflow import keras\n",
        "from tensorflow import image\n",
        "from tensorflow.keras import layers\n",
        "from tensorflow.keras import Model\n",
        "from tensorflow.keras.models import Sequential\n",
        "from tensorflow.keras.utils import to_categorical\n",
        "from tensorflow.keras.losses import categorical_crossentropy\n",
        "from tensorflow.keras.preprocessing import image\n",
        "from tensorflow.keras.preprocessing.image import ImageDataGenerator\n",
        "from tensorflow.keras.layers import Dense, Flatten, Conv2D, MaxPooling2D, Dropout\n"
      ]
    },
    {
      "cell_type": "code",
      "source": [
        "print(\"Num GPUs Available: \", len(tf.config.list_physical_devices('GPU')))"
      ],
      "metadata": {
        "colab": {
          "base_uri": "https://localhost:8080/"
        },
        "id": "5csdUWFHW7tT",
        "outputId": "4d7a543d-575a-4cf9-9c5a-311b08299945"
      },
      "execution_count": 41,
      "outputs": [
        {
          "output_type": "stream",
          "name": "stdout",
          "text": [
            "Num GPUs Available:  1\n"
          ]
        }
      ]
    },
    {
      "cell_type": "code",
      "source": [
        "gpus = tf.config.list_physical_devices('GPU')\n",
        "if gpus:\n",
        "  # Restrict TensorFlow to only use the first GPU\n",
        "  try:\n",
        "    tf.config.set_visible_devices(gpus[0], 'GPU')\n",
        "    logical_gpus = tf.config.list_logical_devices('GPU')\n",
        "    print(len(gpus), \"Physical GPUs,\", len(logical_gpus), \"Logical GPU\")\n",
        "  except RuntimeError as e:\n",
        "    # Visible devices must be set before GPUs have been initialized\n",
        "    print(e)"
      ],
      "metadata": {
        "colab": {
          "base_uri": "https://localhost:8080/"
        },
        "id": "Ay0oV66SXFLh",
        "outputId": "80f5b026-8c2c-433d-907b-6ba4717b84f2"
      },
      "execution_count": 42,
      "outputs": [
        {
          "output_type": "stream",
          "name": "stdout",
          "text": [
            "1 Physical GPUs, 1 Logical GPU\n"
          ]
        }
      ]
    },
    {
      "cell_type": "code",
      "execution_count": 45,
      "metadata": {
        "id": "Ticotj0oWEhM"
      },
      "outputs": [],
      "source": [
        "# Define parameters of some images\n",
        "DIM = 200"
      ]
    },
    {
      "cell_type": "code",
      "execution_count": 46,
      "metadata": {
        "id": "cTlccGuRWEhO"
      },
      "outputs": [],
      "source": [
        "class AlexNet(Sequential):\n",
        "    '''\n",
        "    Here is an implementation of AlexNet in Tensorflow.\n",
        "    I have a lot of experience with AlexNet and it works pretty\n",
        "    well for most things. We can train from scratch or we can get the \n",
        "    pretrained ImageNet weights from the Internet and do stuff with it\n",
        "\n",
        "    We can also use networks ike VGG16 and ResNet (I think ResNet is classification)\n",
        "    and do similar things, we can just get those implemnetations there. \n",
        "    '''\n",
        "    def __init__(self, input_shape, num_classes):\n",
        "        super().__init__()\n",
        "\n",
        "        self.add(Conv2D(96, kernel_size=(11, 11), strides=4,\n",
        "                        padding='valid', activation='relu',\n",
        "                        input_shape=input_shape,\n",
        "                        kernel_initializer='he_normal'))\n",
        "        self.add(MaxPooling2D(pool_size=(3, 3), strides=(2, 2),\n",
        "                              padding='valid', data_format=None))\n",
        "\n",
        "        self.add(Conv2D(256, kernel_size=(5, 5), strides=1,\n",
        "                        padding='same', activation='relu',\n",
        "                        kernel_initializer='he_normal'))\n",
        "        self.add(MaxPooling2D(pool_size=(3, 3), strides=(2, 2),\n",
        "                              padding='valid', data_format=None))\n",
        "\n",
        "        self.add(Conv2D(384, kernel_size=(3, 3), strides=1,\n",
        "                        padding='same', activation='relu',\n",
        "                        kernel_initializer='he_normal'))\n",
        "\n",
        "        self.add(Conv2D(384, kernel_size=(3, 3), strides=1,\n",
        "                        padding='same', activation='relu',\n",
        "                        kernel_initializer='he_normal'))\n",
        "\n",
        "        self.add(Conv2D(256, kernel_size=(3, 3), strides=1,\n",
        "                        padding='same', activation='relu',\n",
        "                        kernel_initializer='he_normal'))\n",
        "\n",
        "        self.add(MaxPooling2D(pool_size=(3, 3), strides=(2, 2),\n",
        "                              padding='valid', data_format=None))\n",
        "\n",
        "        self.add(Flatten())\n",
        "        self.add(Dense(4096, activation='relu'))\n",
        "        self.add(Dropout(0.5))\n",
        "        self.add(Dense(4096, activation='relu'))\n",
        "        self.add(Dropout(0.5))\n",
        "        self.add(Dense(num_classes, activation='softmax'))\n"
      ]
    },
    {
      "cell_type": "code",
      "execution_count": 47,
      "metadata": {
        "id": "gDGHgdoMWEhQ"
      },
      "outputs": [],
      "source": [
        "class AlexNet_Input_to_Kernels(Sequential):\n",
        "    '''\n",
        "    H\n",
        "    '''\n",
        "    def __init__(self, input_shape):\n",
        "        super().__init__()\n",
        "\n",
        "        self.add(Conv2D(96, kernel_size=(11, 11), strides=4,\n",
        "                        padding='valid', activation='relu',\n",
        "                        input_shape=input_shape,\n",
        "                        kernel_initializer='he_normal'))\n",
        "        self.add(MaxPooling2D(pool_size=(3, 3), strides=(2, 2),\n",
        "                              padding='valid', data_format=None))\n",
        "\n",
        "        self.add(Conv2D(256, kernel_size=(5, 5), strides=1,\n",
        "                        padding='same', activation='relu',\n",
        "                        kernel_initializer='he_normal'))\n",
        "        self.add(MaxPooling2D(pool_size=(3, 3), strides=(2, 2),\n",
        "                              padding='valid', data_format=None))\n",
        "\n",
        "        self.add(Conv2D(384, kernel_size=(3, 3), strides=1,\n",
        "                        padding='same', activation='relu',\n",
        "                        kernel_initializer='he_normal'))\n",
        "\n",
        "        self.add(Conv2D(384, kernel_size=(3, 3), strides=1,\n",
        "                        padding='same', activation='relu',\n",
        "                        kernel_initializer='he_normal'))\n",
        "\n",
        "        self.add(Conv2D(256, kernel_size=(3, 3), strides=1,\n",
        "                        padding='same', activation='relu',\n",
        "                        kernel_initializer='he_normal'))\n",
        "\n",
        "        self.add(MaxPooling2D(pool_size=(3, 3), strides=(2, 2),\n",
        "                              padding='valid', data_format=None))\n",
        "        self.add(Flatten(input_shape=(6, 6, 256)))\n",
        "        # self.add(Dense(4096, activation='relu'))\n",
        "#         self.add(Dropout(0.5))\n",
        "#         self.add(Dense(4096, activation= 'relu'))\n",
        "#         self.add(Dropout(0.5))\n"
      ]
    },
    {
      "cell_type": "code",
      "execution_count": 52,
      "metadata": {
        "colab": {
          "base_uri": "https://localhost:8080/"
        },
        "id": "w1llNnupWEhS",
        "outputId": "fc2d6653-2625-4752-f5c2-d02143a83117"
      },
      "outputs": [
        {
          "output_type": "stream",
          "name": "stdout",
          "text": [
            "Found 261 files belonging to 4 classes.\n",
            "Using 235 files for training.\n",
            "Found 261 files belonging to 4 classes.\n",
            "Using 235 files for training.\n",
            "Found 261 files belonging to 4 classes.\n",
            "Using 235 files for training.\n",
            "Found 261 files belonging to 4 classes.\n",
            "Using 26 files for validation.\n"
          ]
        }
      ],
      "source": [
        "DIM = 227\n",
        "img_size = (DIM, DIM)\n",
        "image_height = DIM\n",
        "image_width = DIM\n",
        "\n",
        "IMG_FOLDER_PATH = BASE_DIR + \"\"# Add training set here\n",
        "# IMG_VAL_PATH = \"\"# Add validation set here\n",
        "# IMG_TEST_PATH = \"\"# Add test set here\n",
        "\n",
        "BATCH_SIZE = 16 \n",
        "\n",
        "data_generator = ImageDataGenerator(rescale=1.0/255.0)\n",
        "data_iter = tf.keras.utils.image_dataset_from_directory(IMG_FOLDER_PATH,\n",
        "                                                labels='inferred',\n",
        "                                                label_mode='categorical' ,\n",
        "                                                class_names=['jack2s', 'jack4s', 'jackch', 'jackcu'],\n",
        "                                                color_mode='rgb',\n",
        "                                                batch_size=BATCH_SIZE,\n",
        "                                                image_size=(DIM, DIM),\n",
        "                                                shuffle=True,\n",
        "                                                seed=1,\n",
        "                                                validation_split=0.1,\n",
        "                                                subset=\"training\",\n",
        "                                                interpolation='bilinear',\n",
        "                                                follow_links=False,\n",
        "                                                crop_to_aspect_ratio=False\n",
        "                                               )\n",
        "data_iter2 = tf.keras.utils.image_dataset_from_directory(IMG_FOLDER_PATH,\n",
        "                                                labels='inferred',\n",
        "                                                label_mode='categorical' ,\n",
        "                                                class_names=['jack2s', 'jack4s', 'jackch', 'jackcu'],\n",
        "                                                color_mode='rgb',\n",
        "                                                batch_size=BATCH_SIZE,\n",
        "                                                image_size=(DIM, DIM),\n",
        "                                                shuffle=True,\n",
        "                                                seed=1,\n",
        "                                                validation_split=0.1,\n",
        "                                                subset=\"training\",\n",
        "                                                interpolation='bilinear',\n",
        "                                                follow_links=False,\n",
        "                                                crop_to_aspect_ratio=False\n",
        "                                               )\n",
        "data_iter3 = tf.keras.utils.image_dataset_from_directory(IMG_FOLDER_PATH,\n",
        "                                                labels='inferred',\n",
        "                                                label_mode='categorical' ,\n",
        "                                                class_names=['jack2s', 'jack4s', 'jackch', 'jackcu'],\n",
        "                                                color_mode='rgb',\n",
        "                                                batch_size=BATCH_SIZE,\n",
        "                                                image_size=(DIM, DIM),\n",
        "                                                shuffle=True,\n",
        "                                                seed=1,\n",
        "                                                validation_split=0.1,\n",
        "                                                subset=\"training\",\n",
        "                                                interpolation='bilinear',\n",
        "                                                follow_links=False,\n",
        "                                                crop_to_aspect_ratio=False\n",
        "                                               )\n",
        "\n",
        "\n",
        "val_data_iter = tf.keras.utils.image_dataset_from_directory(IMG_FOLDER_PATH,\n",
        "                                                labels='inferred',\n",
        "                                                label_mode='categorical' ,\n",
        "                                                class_names=['jack2s', 'jack4s', 'jackch', 'jackcu'],\n",
        "                                                color_mode='rgb',\n",
        "                                                batch_size=BATCH_SIZE,\n",
        "                                                image_size=(DIM, DIM),\n",
        "                                                shuffle=True,\n",
        "                                                seed=1,\n",
        "                                                validation_split=0.1,\n",
        "                                                subset=\"validation\",\n",
        "                                                interpolation='bilinear',\n",
        "                                                follow_links=False,\n",
        "                                                crop_to_aspect_ratio=False\n",
        "\n",
        "                                               )\n",
        "# val_data_iter = data_generator.flow_from_directory(IMG_VAL_PATH,\n",
        "#                                                    target_size=img_size,\n",
        "#                                                    color_mode=\"rgb\",\n",
        "#                                                    batch_size=1,\n",
        "#                                                    shuffle=False,\n",
        "#                                                    class_mode=\"categorical\"\n",
        "#                                                    )\n",
        "\n",
        "# test_data_iter = data_generator.flow_from_directory(IMG_TEST_PATH,\n",
        "#                                                     target_size=img_size,\n",
        "#                                                     color_mode=\"rgb\",\n",
        "#                                                     batch_size=1,\n",
        "#                                                     shuffle=False,\n",
        "#                                                     class_mode=\"categorical\"\n",
        "#                                                     )\n"
      ]
    },
    {
      "cell_type": "code",
      "source": [
        "augs = tf.keras.Sequential([\n",
        "  layers.RandomFlip(\"vertical\"),\n",
        "  layers.RandomRotation(0.2),\n",
        "  layers.RandomContrast(0.3),\n",
        "  layers.RandomTranslation(.2, .2),\n",
        "  layers.RandomZoom(.2, .2)\n",
        "])\n",
        "\n",
        "data_iter = data_iter.map(\n",
        "  lambda x, y: (augs(x, training=True), y))\n",
        "data_iter2 = data_iter2.map(\n",
        "  lambda x, y: (augs(x, training=True), y))\n",
        "data_iter3 = data_iter3.map(\n",
        "  lambda x, y: (augs(x, training=True), y))\n",
        "data_iter = data_iter.concatenate(data_iter2)\n",
        "data_iter = data_iter.concatenate(data_iter3)"
      ],
      "metadata": {
        "id": "WtxDaDJ0Xvrp"
      },
      "execution_count": 53,
      "outputs": []
    },
    {
      "cell_type": "code",
      "source": [
        "data_iter"
      ],
      "metadata": {
        "colab": {
          "base_uri": "https://localhost:8080/"
        },
        "id": "c-ItJOd_aZn8",
        "outputId": "f31416f7-098a-42f0-d399-c785f624659a"
      },
      "execution_count": 54,
      "outputs": [
        {
          "output_type": "execute_result",
          "data": {
            "text/plain": [
              "<ConcatenateDataset element_spec=(TensorSpec(shape=(None, 227, 227, 3), dtype=tf.float32, name=None), TensorSpec(shape=(None, 4), dtype=tf.float32, name=None))>"
            ]
          },
          "metadata": {},
          "execution_count": 54
        }
      ]
    },
    {
      "cell_type": "code",
      "execution_count": null,
      "metadata": {
        "id": "a83hFm6-WEhU"
      },
      "outputs": [],
      "source": [
        "# We will build a custom training loop to see how the process works\n",
        "# we compile it, load the weights\n",
        "# model = AlexNet((DIM, DIM, 3), 4)\n",
        "# model.compile(optimizer=tf.keras.optimizers.Adam(1e-4),\n",
        "#               loss=\"categorical_crossentropy\", metrics=[\"accuracy\"])\n",
        "# model.summary()"
      ]
    },
    {
      "cell_type": "code",
      "execution_count": 55,
      "metadata": {
        "id": "EvjxnsBcWEhW"
      },
      "outputs": [],
      "source": [
        "def visualize_representation(input, title=\"\"):\n",
        "    #input = np.reshape(input, (len(input), 1))\n",
        "    for i in [60, 200, 350, 550]:\n",
        "        val = input[i]\n",
        "        plt.figure()\n",
        "        plt.bar(x=[i for i in range(1, 4097)], height=val)\n",
        "        plt.title(title)\n",
        "        plt.tight_layout()\n",
        "        plt.show()"
      ]
    },
    {
      "cell_type": "code",
      "source": [
        "# Model Evaluation Utils \n",
        "def evaluate_model(dataX, dataY, n_folds=5):\n",
        "    '''\n",
        "    Function that trains and evaluates a model \n",
        "    '''\n",
        "    scores, histories = list(), list()\n",
        "    # define model\n",
        "    model = define_model()\n",
        "    # prepare cross validation\n",
        "    kfold = KFold(n_folds, shuffle=True, random_state=1)\n",
        "    # enumerate splits\n",
        "    counter = 1\n",
        "    for train_ix, test_ix in kfold.split(dataX):\n",
        "        print('Beginning Fold: ' + str(counter))\n",
        "        # select rows for train and test\n",
        "        trainX, trainY, testX, testY = dataX[train_ix], dataY[train_ix], dataX[test_ix], dataY[test_ix]\n",
        "        # fit model\n",
        "        history = model.fit(trainX, trainY, epochs = 5, batch_size=32, validation_data=(testX, testY), verbose=1)\n",
        "        # evaluate model\n",
        "        _, acc = model.evaluate(testX, testY, verbose=1)\n",
        "        print()\n",
        "        print('> %.3f' % (acc * 100.0))\n",
        "        print()\n",
        "        # append scores\n",
        "        scores.append(acc)\n",
        "        histories.append(history)\n",
        "        counter += 1\n",
        "    return model, scores, histories\n",
        "\n",
        "def summarize_diagnostics(history):\n",
        "    ''' \n",
        "    Function that takes in the history object that model.fit() throws out,\n",
        "    and unpacks it to plot the Cross Entropy Loss and Accuracy of the model\n",
        "    Useful to compare the Training and Validation Set\n",
        "    '''\n",
        "    # plot loss\n",
        "    plt.subplot(211)\n",
        "    plt.title('Cross Entropy Loss')\n",
        "    plt.plot(history.history['loss'], color='blue', label='Training Set')\n",
        "    plt.plot(history.history['val_loss'], color='orange', label='Validation Set')\n",
        "    plt.xlabel('Epoch')\n",
        "    plt.ylabel('Loss Value')\n",
        "    plt.legend()\n",
        "\n",
        "    # plot accuracy\n",
        "    plt.subplot(212)\n",
        "    plt.ylim(0.5, 1.0)\n",
        "    plt.title('Classification Accuracy')\n",
        "    plt.plot(history.history['accuracy'], color='blue', label='Training Set')\n",
        "    plt.plot(history.history['val_accuracy'], color='orange', label='Validation Set')\n",
        "    plt.xlabel('Epoch')\n",
        "    plt.ylabel('Accuracy')\n",
        "    plt.legend()\n",
        "\n",
        "    plt.tight_layout()\n",
        "    plt.show()"
      ],
      "metadata": {
        "id": "TjZWcsQdOvo2"
      },
      "execution_count": 56,
      "outputs": []
    },
    {
      "cell_type": "code",
      "source": [
        "# We can train the network normally for speed and accraucy testing here\n",
        "model = AlexNet((DIM, DIM, 3), 4)\n",
        "model.compile(optimizer=tf.keras.optimizers.Adam(1e-4),\n",
        "              loss=\"categorical_crossentropy\", metrics=[\"accuracy\"])\n",
        "\n",
        "EPOCHS = 10\n",
        "hist = model.fit(data_iter, epochs=EPOCHS, batch_size=BATCH_SIZE, validation_data=val_data_iter)\n",
        "\n",
        "summarize_diagnostics(hist)"
      ],
      "metadata": {
        "colab": {
          "base_uri": "https://localhost:8080/",
          "height": 664
        },
        "id": "QZ9n7GzdOX-w",
        "outputId": "76218960-6405-4625-a665-ddf81cd0317d"
      },
      "execution_count": 57,
      "outputs": [
        {
          "output_type": "stream",
          "name": "stdout",
          "text": [
            "Epoch 1/10\n",
            "45/45 [==============================] - 14s 294ms/step - loss: 152.4405 - accuracy: 0.2596 - val_loss: 6.5667 - val_accuracy: 0.1923\n",
            "Epoch 2/10\n",
            "45/45 [==============================] - 14s 296ms/step - loss: 7.0980 - accuracy: 0.2709 - val_loss: 2.1401 - val_accuracy: 0.3077\n",
            "Epoch 3/10\n",
            "45/45 [==============================] - 13s 293ms/step - loss: 2.7483 - accuracy: 0.2638 - val_loss: 1.3696 - val_accuracy: 0.4231\n",
            "Epoch 4/10\n",
            "45/45 [==============================] - 13s 293ms/step - loss: 1.9151 - accuracy: 0.2709 - val_loss: 1.2764 - val_accuracy: 0.4231\n",
            "Epoch 5/10\n",
            "45/45 [==============================] - 13s 288ms/step - loss: 1.6526 - accuracy: 0.2638 - val_loss: 1.3062 - val_accuracy: 0.3462\n",
            "Epoch 6/10\n",
            "45/45 [==============================] - 14s 296ms/step - loss: 1.5758 - accuracy: 0.2965 - val_loss: 1.3060 - val_accuracy: 0.3462\n",
            "Epoch 7/10\n",
            "45/45 [==============================] - 14s 297ms/step - loss: 1.5008 - accuracy: 0.2979 - val_loss: 1.2991 - val_accuracy: 0.3846\n",
            "Epoch 8/10\n",
            "45/45 [==============================] - 13s 291ms/step - loss: 1.4605 - accuracy: 0.2823 - val_loss: 1.2491 - val_accuracy: 0.4231\n",
            "Epoch 9/10\n",
            "45/45 [==============================] - 13s 287ms/step - loss: 1.4182 - accuracy: 0.2837 - val_loss: 1.1831 - val_accuracy: 0.5769\n",
            "Epoch 10/10\n",
            "45/45 [==============================] - 13s 288ms/step - loss: 1.4318 - accuracy: 0.3007 - val_loss: 1.1194 - val_accuracy: 0.6154\n"
          ]
        },
        {
          "output_type": "display_data",
          "data": {
            "text/plain": [
              "<Figure size 432x288 with 2 Axes>"
            ],
            "image/png": "[encoded data removed]"
          },
          "metadata": {
            "needs_background": "light"
          }
        }
      ]
    },
    {
      "cell_type": "code",
      "execution_count": 58,
      "metadata": {
        "colab": {
          "base_uri": "https://localhost:8080/"
        },
        "id": "FsFsxJzAWEhV",
        "outputId": "7e00384a-bef8-40f6-8ffa-5b7d15db088e"
      },
      "outputs": [
        {
          "output_type": "stream",
          "name": "stdout",
          "text": [
            "Iteration 1\n",
            "45/45 [==============================] - 14s 290ms/step - loss: 140.4759 - accuracy: 0.2638 - val_loss: 17.4049 - val_accuracy: 0.1538\n",
            "Length of Outputs: (705, 9216)\n",
            "Iteration 2\n",
            "45/45 [==============================] - 13s 286ms/step - loss: 6.9986 - accuracy: 0.2411 - val_loss: 1.6297 - val_accuracy: 0.3846\n",
            "Length of Outputs: (705, 9216)\n",
            "Iteration 3\n",
            "45/45 [==============================] - 13s 288ms/step - loss: 2.4811 - accuracy: 0.2823 - val_loss: 1.4374 - val_accuracy: 0.3077\n",
            "Length of Outputs: (705, 9216)\n",
            "Iteration 4\n",
            "45/45 [==============================] - 13s 290ms/step - loss: 1.7797 - accuracy: 0.2809 - val_loss: 1.2924 - val_accuracy: 0.2692\n",
            "Length of Outputs: (705, 9216)\n",
            "Iteration 5\n",
            "45/45 [==============================] - 13s 288ms/step - loss: 1.6366 - accuracy: 0.2468 - val_loss: 1.3222 - val_accuracy: 0.4231\n",
            "Length of Outputs: (705, 9216)\n",
            "Iteration 6\n",
            "45/45 [==============================] - 13s 288ms/step - loss: 1.4734 - accuracy: 0.2879 - val_loss: 1.2786 - val_accuracy: 0.5769\n",
            "Length of Outputs: (705, 9216)\n",
            "Iteration 7\n",
            "45/45 [==============================] - 13s 288ms/step - loss: 1.4922 - accuracy: 0.2851 - val_loss: 1.2694 - val_accuracy: 0.5769\n",
            "Length of Outputs: (705, 9216)\n",
            "Iteration 8\n",
            "45/45 [==============================] - 13s 287ms/step - loss: 1.4316 - accuracy: 0.2950 - val_loss: 1.2287 - val_accuracy: 0.5385\n",
            "Length of Outputs: (705, 9216)\n",
            "Iteration 9\n",
            "45/45 [==============================] - 13s 288ms/step - loss: 1.3733 - accuracy: 0.3348 - val_loss: 1.2963 - val_accuracy: 0.3462\n",
            "Length of Outputs: (705, 9216)\n",
            "Iteration 10\n",
            "45/45 [==============================] - 13s 287ms/step - loss: 1.4029 - accuracy: 0.3404 - val_loss: 1.2364 - val_accuracy: 0.4615\n",
            "Length of Outputs: (705, 9216)\n"
          ]
        }
      ],
      "source": [
        "# We will build a custom training loop to see how the process works\n",
        "# we compile it, load the weights\n",
        "model = AlexNet((DIM, DIM, 3), 4)\n",
        "model.compile(optimizer=tf.keras.optimizers.Adam(1e-4),\n",
        "              loss=\"categorical_crossentropy\", metrics=[\"accuracy\"])\n",
        "\n",
        "EPOCHS = 10\n",
        "layers = [layer.name for layer in model.layers]\n",
        "\n",
        "iteration_representations = {}\n",
        "for epoch in range(EPOCHS):\n",
        "    print(f\"Iteration {epoch + 1}\")\n",
        "    hist = model.fit(data_iter, epochs=1, batch_size=BATCH_SIZE, validation_data=val_data_iter)\n",
        "\n",
        "    layer_cut = 9\n",
        "\n",
        "    model1 = AlexNet_Input_to_Kernels((DIM, DIM, 3))\n",
        "\n",
        "    for i in range(0, layer_cut):\n",
        "        model1.layers[i].set_weights(model.layers[i].get_weights())\n",
        "\n",
        "    # Now we can take the outputs from the cut model\n",
        "\n",
        "    outputs = model1.predict(data_iter)\n",
        "    print(f\"Length of Outputs: {outputs.shape}\")\n",
        "    \n",
        "    iteration_representations[epoch + 1] = outputs\n",
        "\n",
        "    #visualize_representation(outputs)"
      ]
    },
    {
      "cell_type": "code",
      "source": [
        "outputs = model1.predict(val_data_iter)"
      ],
      "metadata": {
        "id": "kH5zTokcNOtc"
      },
      "execution_count": 59,
      "outputs": []
    },
    {
      "cell_type": "code",
      "source": [
        "print(len(outputs))\n",
        "\n",
        "#from sklearn.decomposition import PCA\n",
        "#pca = PCA(n_components=2)"
      ],
      "metadata": {
        "colab": {
          "base_uri": "https://localhost:8080/"
        },
        "id": "ug5vin6joN_I",
        "outputId": "604d8bc3-24bc-414f-8f4b-8b92b92a6401"
      },
      "execution_count": 60,
      "outputs": [
        {
          "output_type": "stream",
          "name": "stdout",
          "text": [
            "26\n"
          ]
        }
      ]
    },
    {
      "cell_type": "code",
      "source": [
        "sum(outputs[1])"
      ],
      "metadata": {
        "colab": {
          "base_uri": "https://localhost:8080/"
        },
        "id": "pG9Po6Ykp6g0",
        "outputId": "5d0130bd-eed5-41e1-afac-e09ac2613c14"
      },
      "execution_count": 61,
      "outputs": [
        {
          "output_type": "execute_result",
          "data": {
            "text/plain": [
              "98.50634313374758"
            ]
          },
          "metadata": {},
          "execution_count": 61
        }
      ]
    },
    {
      "cell_type": "markdown",
      "source": [
        "going back to the images and coloring them could be a little hard.  Can figure it out tho"
      ],
      "metadata": {
        "id": "kTv9ljkNqNWn"
      }
    },
    {
      "cell_type": "code",
      "source": [
        "from sklearn.decomposition import PCA\n",
        "pca = PCA(n_components=2)\n",
        "ps = pca.fit_transform(outputs)"
      ],
      "metadata": {
        "id": "Me1wxUwlp8lg"
      },
      "execution_count": 62,
      "outputs": []
    },
    {
      "cell_type": "code",
      "source": [
        "fig = plt.figure(figsize = (8,8))\n",
        "ax = fig.add_subplot(1,1,1) \n",
        "ax.set_xlabel('Principal Component 1', fontsize = 15)\n",
        "ax.set_ylabel('Principal Component 2', fontsize = 15)\n",
        "ax.set_title('2 component PCA', fontsize = 20)\n",
        "#targets = ['Iris-setosa', 'Iris-versicolor', 'Iris-virginica']\n",
        "#colors = ['r', 'g', 'b']\n",
        "#for target, color in zip(targets,colors):\n",
        "#    indicesToKeep = finalDf['target'] == target\n",
        "#    ax.scatter(finalDf.loc[indicesToKeep, 'principal component 1']\n",
        "#               , finalDf.loc[indicesToKeep, 'principal component 2']\n",
        "#               , c = color\n",
        "#               , s = 50)\n",
        "x = [item[0] for item in ps.tolist()]\n",
        "y = [item[1] for item in ps.tolist()]\n",
        "ax.scatter(x, y)\n",
        "#ax.legend(ps)\n",
        "ax.grid()"
      ],
      "metadata": {
        "colab": {
          "base_uri": "https://localhost:8080/",
          "height": 523
        },
        "id": "jK0OC9Xnqj5a",
        "outputId": "ad08b16e-fa88-44d7-961e-23915e20bd95"
      },
      "execution_count": 63,
      "outputs": [
        {
          "output_type": "display_data",
          "data": {
            "text/plain": [
              "<Figure size 576x576 with 1 Axes>"
            ],
            "image/png": "[encoded data removed]"
          },
          "metadata": {
            "needs_background": "light"
          }
        }
      ]
    },
    {
      "cell_type": "code",
      "source": [
        "#plots the data in two dimensions for visualization using pca\n",
        "#assumes there are 4 different types of pitches - we can alter this later if needed\n",
        "#labels are just t0 for type 0 and t1 for type 2 etc.  Will change this as needed\n",
        "\n",
        "\n",
        "#paramaters:  data is either val_data_iter or data_iter\n",
        "#model should just be model1\n",
        "\n",
        "def plotpoints(data, model):\n",
        "  t0 = []\n",
        "  t1 = []\n",
        "  t2 = []\n",
        "  t3 = []\n",
        "\n",
        "  for item in data:\n",
        "    outputs = model1.predict(item[0])\n",
        "    labels = item[1]\n",
        "    for x, y in zip(outputs, labels):\n",
        "      if int(y[0]) == 1:\n",
        "        t0.append(x)\n",
        "      if int(y[1]) == 1:\n",
        "        t1.append(x)\n",
        "      if int(y[2]) == 1:\n",
        "        t2.append(x)\n",
        "      else:\n",
        "        t3.append(x)\n",
        "\n",
        "  ps = pca.fit_transform(t0)\n",
        "  fig = plt.figure(figsize = (8,8))\n",
        "  ax = fig.add_subplot(1,1,1) \n",
        "  ax.set_xlabel('Principal Component 1', fontsize = 15)\n",
        "  ax.set_ylabel('Principal Component 2', fontsize = 15)\n",
        "  ax.set_title('2 component PCA', fontsize = 20)\n",
        "  pitches = [t0, t1, t2, t3]\n",
        "  colors = ['r', 'g', 'b', 'm']\n",
        "  for pitch, color in zip(pitches,colors):\n",
        "      ps = pca.fit_transform(pitch)\n",
        "      x = [item[0] for item in ps.tolist()]\n",
        "      y = [item[1] for item in ps.tolist()]\n",
        "      ax.scatter(x, y, c = color)\n",
        "\n",
        "  ax.legend(['t0', 't1', 't2', 't3'])"
      ],
      "metadata": {
        "id": "CyHwR2eVuXGa"
      },
      "execution_count": 22,
      "outputs": []
    },
    {
      "cell_type": "code",
      "source": [
        "plotpoints(data_iter, model1)"
      ],
      "metadata": {
        "colab": {
          "base_uri": "https://localhost:8080/",
          "height": 523
        },
        "id": "veQhsMkUzx7p",
        "outputId": "e166fe74-9fa4-4cc2-bd11-5a32491df239"
      },
      "execution_count": 23,
      "outputs": [
        {
          "output_type": "display_data",
          "data": {
            "text/plain": [
              "<Figure size 576x576 with 1 Axes>"
            ],
            "image/png": "[encoded data removed]"
          },
          "metadata": {
            "needs_background": "light"
          }
        }
      ]
    },
    {
      "cell_type": "code",
      "source": [
        "plotpoints(val_data_iter, model1)"
      ],
      "metadata": {
        "colab": {
          "base_uri": "https://localhost:8080/",
          "height": 523
        },
        "id": "H_6ZRj22z0sX",
        "outputId": "313e831d-c153-4787-e472-a6abcdad3408"
      },
      "execution_count": 24,
      "outputs": [
        {
          "output_type": "display_data",
          "data": {
            "text/plain": [
              "<Figure size 576x576 with 1 Axes>"
            ],
            "image/png": "[encoded data removed]"
          },
          "metadata": {
            "needs_background": "light"
          }
        }
      ]
    },
    {
      "cell_type": "code",
      "source": [
        ""
      ],
      "metadata": {
        "id": "yjlkL4imz-NF"
      },
      "execution_count": null,
      "outputs": []
    }
  ],
  "metadata": {
    "interpreter": {
      "hash": "aee8b7b246df8f9039afb4144a1f6fd8d2ca17a180786b69acc140d282b71a49"
    },
    "kernelspec": {
      "display_name": "Python 3.9.0 64-bit",
      "language": "python",
      "name": "python3"
    },
    "language_info": {
      "codemirror_mode": {
        "name": "ipython",
        "version": 3
      },
      "file_extension": ".py",
      "mimetype": "text/x-python",
      "name": "python",
      "nbconvert_exporter": "python",
      "pygments_lexer": "ipython3",
      "version": "3.9.0"
    },
    "orig_nbformat": 4,
    "colab": {
      "name": "dub_train_model_just_jack.ipynb",
      "provenance": [],
      "include_colab_link": true
    },
    "accelerator": "GPU"
  },
  "nbformat": 4,
  "nbformat_minor": 0
}